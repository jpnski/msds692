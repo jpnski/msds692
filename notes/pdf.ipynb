{
 "cells": [
  {
   "cell_type": "markdown",
   "metadata": {},
   "source": [
    "# Extracting text from PDFs\n",
    "\n",
    "[PDF](https://techterms.com/definition/pdf) stands for \"Portable Document Format\" and PDF files contain images, text, and page layout information.  PDF files are actually programs in a very simple programming language and, hence, can display just about anything. Much of what you see inside a PDF file is text, however, and we can grab that text without the layout information using [poppler](https://poppler.freedesktop.org/). (I used to use `pdfminer` but somehow no longer works on OS X.) Install it with:\n",
    " \n",
    "```bash\n",
    "brew install poppler\n",
    "```\n",
    "\n",
    "or\n",
    "\n",
    "```bash\n",
    "brew upgrade poppler\n",
    "```\n",
    "\n",
    "Then use `pdftotext` as a command from the commandline, which will extract out the text  and save in a text file. First download a sample PDF, such as [Tesla model S](https://www.tesla.com/sites/default/files/tesla-model-s.pdf), which we can easily do from the command line using `curl` (which you might have to install):"
   ]
  },
  {
   "cell_type": "code",
   "execution_count": 1,
   "metadata": {},
   "outputs": [
    {
     "name": "stdout",
     "output_type": "stream",
     "text": [
      "  % Total    % Received % Xferd  Average Speed   Time    Time     Time  Current\n",
      "                                 Dload  Upload   Total   Spent    Left  Speed\n",
      "100 9438k  100 9438k    0     0  30.3M      0 --:--:-- --:--:-- --:--:-- 30.3M\n"
     ]
    }
   ],
   "source": [
    "! curl https://www.tesla.com/sites/default/files/tesla-model-s.pdf > /tmp/tsla.pdf"
   ]
  },
  {
   "cell_type": "markdown",
   "metadata": {},
   "source": [
    "That command downloads the file and because of the redirection operator, `>`, the output gets written to `tsla.pdf` up in `/tmp` directory.\n",
    "\n",
    "Once we have the data, we can pass the filename to `pdftotext` to extract the text:"
   ]
  },
  {
   "cell_type": "code",
   "execution_count": 2,
   "metadata": {},
   "outputs": [
    {
     "name": "stdout",
     "output_type": "stream",
     "text": [
      "Syntax Warning: Invalid Font Weight\n",
      "Syntax Warning: Invalid Font Weight\n",
      "Syntax Warning: Invalid Font Weight\n",
      "Syntax Warning: Invalid Font Weight\n",
      "Syntax Warning: Invalid Font Weight\n"
     ]
    }
   ],
   "source": [
    "! pdftotext /tmp/tsla.pdf # saves into /tmp/tsla.txt"
   ]
  },
  {
   "cell_type": "markdown",
   "metadata": {},
   "source": [
    "(Don't worry about those warnings.)"
   ]
  },
  {
   "cell_type": "code",
   "execution_count": 3,
   "metadata": {},
   "outputs": [
    {
     "name": "stdout",
     "output_type": "stream",
     "text": [
      "Model S\n",
      "Premium Electric Sedan\n",
      "\n",
      "\f",
      "An evolution\n",
      "in automobile\n",
      "engineering\n",
      "Tesla’s advanced electric powertrain\n",
      "delivers exhilarating performance.\n",
      "Unlike a gasoline internal combustion\n",
      "engine with hundreds of moving\n"
     ]
    }
   ],
   "source": [
    "! head -10 /tmp/tsla.txt"
   ]
  },
  {
   "cell_type": "markdown",
   "metadata": {},
   "source": [
    "Once you have text output, you can perform whatever analysis you'd like without having to worry about the data coming in PDF form. For example, you might want to run some analysis on financial documents but they are all in PDF. First, convert to text and then perform your analysis."
   ]
  },
  {
   "cell_type": "markdown",
   "metadata": {},
   "source": [
    "### Exercise\n",
    "\n",
    "Use the `curl` or `wget` command from the commandline to download that PDF file.  Then convert it to a text file somewhere on your dis."
   ]
  },
  {
   "cell_type": "markdown",
   "metadata": {},
   "source": [
    "### Exercise\n",
    "\n",
    "Read that text file with a Python script and split the document into a list of words. Print out the first 100 words. It should look like:\n",
    "\n",
    "```\n",
    "['Model', 'S', 'Premium', 'Electric', 'Sedan', 'An', ...]\n",
    "```"
   ]
  },
  {
   "cell_type": "code",
   "execution_count": 4,
   "metadata": {},
   "outputs": [
    {
     "name": "stdout",
     "output_type": "stream",
     "text": [
      "['Model', 'S', 'Premium', 'Electric', 'Sedan', 'An', 'evolution', 'in', 'automobile', 'engineering', 'Tesla’s', 'advanced', 'electric', 'powertrain', 'delivers', 'exhilarating', 'performance.', 'Unlike', 'a', 'gasoline', 'internal', 'combustion', 'engine', 'with', 'hundreds', 'of', 'moving', 'parts,', 'Tesla', 'electric', 'motors', 'have', 'only', 'one', 'moving', 'piece:', 'the', 'rotor.', 'As', 'a', 'result,', 'Model', 'S', 'acceleration', 'is', 'instantaneous,', 'silent', 'and', 'smooth.', 'Step', 'on', 'the', 'accelerator', 'and', 'in', 'as', 'little', 'as', '3.1', 'seconds', 'Model', 'S', 'is', 'travelling', '60', 'miles', 'per', 'hour,', 'without', 'hesitation,', 'and', 'without', 'a', 'drop', 'of', 'gasoline.', 'Model', 'S', 'is', 'an', 'evolution', 'in', 'automobile', 'engineering.', 'All-Wheel', 'Drive', 'Dual', 'Motor', 'Rear', 'Wheel', 'Drive', 'All-Wheel', 'Drive', 'Dual', 'Motor', 'Dual', 'Motor', 'Model', 'S', 'is']\n"
     ]
    }
   ],
   "source": [
    "with open('/tmp/tsla.txt') as f:\n",
    "    print(f.read().split()[:100])"
   ]
  }
 ],
 "metadata": {
  "anaconda-cloud": {},
  "kernelspec": {
   "display_name": "Python 3",
   "language": "python",
   "name": "python3"
  },
  "language_info": {
   "codemirror_mode": {
    "name": "ipython",
    "version": 3
   },
   "file_extension": ".py",
   "mimetype": "text/x-python",
   "name": "python",
   "nbconvert_exporter": "python",
   "pygments_lexer": "ipython3",
   "version": "3.8.3"
  },
  "toc": {
   "base_numbering": 1,
   "colors": {
    "hover_highlight": "#DAA520",
    "navigate_num": "#000000",
    "navigate_text": "#333333",
    "running_highlight": "#FF0000",
    "selected_highlight": "#FFD700",
    "sidebar_border": "#EEEEEE",
    "wrapper_background": "#FFFFFF"
   },
   "moveMenuLeft": true,
   "nav_menu": {
    "height": "66px",
    "width": "252px"
   },
   "navigate_menu": true,
   "number_sections": true,
   "sideBar": true,
   "skip_h1_title": false,
   "threshold": 4,
   "title_cell": "Table of Contents",
   "title_sidebar": "Contents",
   "toc_cell": false,
   "toc_position": {},
   "toc_section_display": "block",
   "toc_window_display": false,
   "widenNotebook": false
  }
 },
 "nbformat": 4,
 "nbformat_minor": 4
}
