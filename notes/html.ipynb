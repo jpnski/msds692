{
 "cells": [
  {
   "cell_type": "markdown",
   "metadata": {},
   "source": [
    "# Extracting text from HTML file\n",
    "\n",
    "There are lots of data sources from which we might want to extract information, such as initial public offerings for various companies. E.g., [Tesla's IPO prospectus](https://www.sec.gov/Archives/edgar/data/1318605/000119312510017054/ds1.htm). One can imagine trying to mine such documents in an effort to predict which IPOs will do poorly or well.\n",
    "\n",
    "HTML has both text as well as so-called markup like `<b>`, which is used to specify formatting information.\n",
    "\n",
    "We will use the well-known [Beautiful soup](https://www.crummy.com/software/BeautifulSoup/bs4/doc/) Python library to extract text. `pip install bs4`\n",
    "\n",
    "First, either do a \"save as\" or do what the cool kids do:"
   ]
  },
  {
   "cell_type": "code",
   "execution_count": 1,
   "metadata": {},
   "outputs": [
    {
     "name": "stdout",
     "output_type": "stream",
     "text": [
      "  % Total    % Received % Xferd  Average Speed   Time    Time     Time  Current\n",
      "                                 Dload  Upload   Total   Spent    Left  Speed\n",
      "100 2306k    0 2306k    0     0  8906k      0 --:--:-- --:--:-- --:--:-- 8940k\n"
     ]
    }
   ],
   "source": [
    "! curl https://www.sec.gov/Archives/edgar/data/1318605/000119312510017054/ds1.htm > /tmp/TeslaIPO.html"
   ]
  },
  {
   "cell_type": "markdown",
   "metadata": {},
   "source": [
    "If you then do `open /tmp/TeslaIPO.html` from the command line, it will pop up in your browser window. Also take a look at what HTML looks like in the wild:"
   ]
  },
  {
   "cell_type": "code",
   "execution_count": 2,
   "metadata": {},
   "outputs": [
    {
     "name": "stdout",
     "output_type": "stream",
     "text": [
      "<DOCUMENT>\n",
      "<TYPE>S-1\n",
      "<SEQUENCE>1\n",
      "<FILENAME>ds1.htm\n",
      "<DESCRIPTION>REGISTRATION STATEMENT ON FORM S-1\n",
      "<TEXT>\n",
      "<HTML><HEAD>\n",
      "<TITLE>Registration Statement on Form S-1</TITLE>\n",
      "</HEAD>\n",
      " <BODY BGCOLOR=\"WHITE\">\n",
      "<h5 align=\"left\"><a href=\"#toc\">Table of Contents</a></h5>\n",
      "\n",
      " <P STYLE=\"margin-top:0px;margin-bottom:0px\" ALIGN=\"center\"><FONT STYLE=\"font-family:Times New Roman\" SIZE=\"2\"><B>As filed with the Securities and Exchange Commission on January 29, 2010 </B></FONT></P>\n",
      "<P STYLE=\"margin-top:0px;margin-bottom:0px\" ALIGN=\"right\"><FONT STYLE=\"font-family:Times New Roman\" SIZE=\"2\"><B>Registration No.&nbsp;333-&nbsp;&nbsp;&nbsp;&nbsp;&nbsp;&nbsp;&nbsp;&nbsp;&nbsp;&nbsp;&nbsp;&nbsp;&nbsp;&nbsp;&nbsp;&nbsp;</B></FONT></P>\n",
      "<P STYLE=\"font-size:2px;margin-top:0px;margin-bottom:0px\">&nbsp;</P> <P STYLE=\"line-height:0px;margin-top:0px;margin-bottom:0px;border-bottom:0.5pt solid #000000\">&nbsp;</P> <P\n"
     ]
    }
   ],
   "source": [
    "! head -15 /tmp/TeslaIPO.html"
   ]
  },
  {
   "cell_type": "markdown",
   "metadata": {},
   "source": [
    "## Main script\n",
    "\n",
    "Our main program accepts a file name parameter from the commandline, opens it, gets its text, converts the HTML to text, and close the file. Our first attempt, after looking at the documentation, might be the following (file `ipo-text.py`):"
   ]
  },
  {
   "cell_type": "code",
   "execution_count": 3,
   "metadata": {},
   "outputs": [
    {
     "name": "stdout",
     "output_type": "stream",
     "text": [
      "\n",
      "S-1\n",
      "1\n",
      "ds1.htm\n",
      "REGISTRATION STATEMENT ON FORM S-1\n",
      "\n",
      "\n",
      "Registration Statement on Form S-1\n",
      "\n",
      "\n",
      "Table of Contents\n",
      "As filed with the Securities and Exchange Commission on January 29, 2010 \n",
      "Registration No. 333-                \n",
      "      UNITED STATES  SECURITIES AND EXCHANGE COMMISSION  Washington, D.C. 20549  \n"
     ]
    }
   ],
   "source": [
    "import sys\n",
    "from bs4 import BeautifulSoup\n",
    "\n",
    "with open(\"/tmp/TeslaIPO.html\", \"r\") as f:\n",
    "    html_text = f.read()\n",
    "soup = BeautifulSoup(html_text, 'html.parser')\n",
    "text = soup.get_text()\n",
    "print(text[0:300])"
   ]
  },
  {
   "cell_type": "markdown",
   "metadata": {},
   "source": [
    "## Tidy up\n",
    "\n",
    "Let's improve our program by creating a function to extract text from HTML:"
   ]
  },
  {
   "cell_type": "code",
   "execution_count": 4,
   "metadata": {},
   "outputs": [],
   "source": [
    "def html2text(html_text):\n",
    "    soup = BeautifulSoup(html_text, 'html.parser')\n",
    "    text = soup.get_text()\n",
    "    return text"
   ]
  },
  {
   "cell_type": "markdown",
   "metadata": {},
   "source": [
    "Then, our main program looks like:"
   ]
  },
  {
   "cell_type": "code",
   "execution_count": 5,
   "metadata": {
    "scrolled": true
   },
   "outputs": [
    {
     "name": "stdout",
     "output_type": "stream",
     "text": [
      "\n",
      "S-1\n",
      "1\n",
      "ds1.htm\n",
      "REGISTRATION STATEMENT ON FORM S-1\n",
      "\n",
      "\n",
      "Registration Statement on Form S-1\n",
      "\n",
      "\n",
      "Table of Contents\n",
      "As filed with the Securities and Exchange Commission on January 29, 2010 \n",
      "Registration No. 333-                \n",
      "      UNITED STATES  SECURITIES AND EXCHANGE COMMISSION  Washington, D.C. 20549  \n"
     ]
    }
   ],
   "source": [
    "import sys\n",
    "from bs4 import BeautifulSoup\n",
    "\n",
    "def html2text(html_text):\n",
    "    soup = BeautifulSoup(html_text, 'html.parser')\n",
    "    text = soup.get_text()\n",
    "    return text\n",
    "\n",
    "with open(\"/tmp/TeslaIPO.html\", \"r\") as f:\n",
    "    html_text = f.read()\n",
    "text = html2text(html_text)\n",
    "print(text[0:300])"
   ]
  },
  {
   "cell_type": "markdown",
   "metadata": {},
   "source": [
    "### Exercise\n",
    "\n",
    "Copy that program into a Python file called `ipo-text.py` and run it from the command line.  You will also have to download the [TeslaIPO.html](https://github.com/parrt/msds692/blob/master/data/TeslaIPO.html) file using your browser or `curl` from the commandline."
   ]
  },
  {
   "cell_type": "markdown",
   "metadata": {},
   "source": [
    "### Exercise\n",
    "\n",
    "Print out the number of unique words in the document (split on whitespace). For Tesla's IPO, I get 10602 unique words."
   ]
  },
  {
   "cell_type": "code",
   "execution_count": 6,
   "metadata": {},
   "outputs": [
    {
     "data": {
      "text/plain": [
       "10546"
      ]
     },
     "execution_count": 6,
     "metadata": {},
     "output_type": "execute_result"
    }
   ],
   "source": [
    "len(set(text.split()))"
   ]
  },
  {
   "cell_type": "code",
   "execution_count": 8,
   "metadata": {},
   "outputs": [
    {
     "data": {
      "text/plain": [
       "10546"
      ]
     },
     "execution_count": 8,
     "metadata": {},
     "output_type": "execute_result"
    }
   ],
   "source": [
    "import numpy as np\n",
    "len(np.unique(text.split()))"
   ]
  }
 ],
 "metadata": {
  "kernelspec": {
   "display_name": "Python 3",
   "language": "python",
   "name": "python3"
  },
  "language_info": {
   "codemirror_mode": {
    "name": "ipython",
    "version": 3
   },
   "file_extension": ".py",
   "mimetype": "text/x-python",
   "name": "python",
   "nbconvert_exporter": "python",
   "pygments_lexer": "ipython3",
   "version": "3.8.3"
  },
  "toc": {
   "colors": {
    "hover_highlight": "#DAA520",
    "navigate_num": "#000000",
    "navigate_text": "#333333",
    "running_highlight": "#FF0000",
    "selected_highlight": "#FFD700",
    "sidebar_border": "#EEEEEE",
    "wrapper_background": "#FFFFFF"
   },
   "moveMenuLeft": true,
   "nav_menu": {},
   "navigate_menu": true,
   "number_sections": true,
   "sideBar": true,
   "skip_h1_title": false,
   "threshold": 4,
   "toc_cell": false,
   "toc_position": {},
   "toc_section_display": "block",
   "toc_window_display": false,
   "widenNotebook": false
  }
 },
 "nbformat": 4,
 "nbformat_minor": 4
}
