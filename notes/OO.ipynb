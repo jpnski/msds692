{
 "cells": [
  {
   "cell_type": "markdown",
   "metadata": {},
   "source": [
    "# Review of object definition and usage"
   ]
  },
  {
   "cell_type": "markdown",
   "metadata": {},
   "source": [
    "## Types, methods, method calls"
   ]
  },
  {
   "cell_type": "markdown",
   "metadata": {},
   "source": [
    "It's safe to think of everything in Python as an object, which means that it's type will be some kind of class. A class is the blueprint for one or more objects and defines the behavior (via a list of methods) for each object of a specific class."
   ]
  },
  {
   "cell_type": "code",
   "execution_count": 1,
   "metadata": {},
   "outputs": [
    {
     "name": "stdout",
     "output_type": "stream",
     "text": [
      "<class 'int'>\n",
      "<class 'str'>\n",
      "<class 'numpy.ndarray'>\n"
     ]
    }
   ],
   "source": [
    "import numpy as np\n",
    "\n",
    "print(type(34))\n",
    "print(type(\"hi\"))\n",
    "print(type(np.array([1,2])))"
   ]
  },
  {
   "cell_type": "markdown",
   "metadata": {},
   "source": [
    "Every object has a field that points to the \"kind of thing it is\".  We use the term *class* to mean the kind of thing is:"
   ]
  },
  {
   "cell_type": "code",
   "execution_count": 26,
   "metadata": {},
   "outputs": [
    {
     "name": "stdout",
     "output_type": "stream",
     "text": [
      "<class 'int'>\n",
      "<class 'str'>\n",
      "<class 'numpy.ndarray'>\n"
     ]
    }
   ],
   "source": [
    "print((34).__class__)\n",
    "print(\"hi\".__class__)\n",
    "print(np.array([1,2]).__class__)"
   ]
  },
  {
   "cell_type": "markdown",
   "metadata": {},
   "source": [
    "Using `dir` we can get the list of methods associated with a particular objects class definition."
   ]
  },
  {
   "cell_type": "code",
   "execution_count": 2,
   "metadata": {},
   "outputs": [
    {
     "data": {
      "text/plain": [
       "['__abs__',\n",
       " '__add__',\n",
       " '__and__',\n",
       " '__bool__',\n",
       " '__ceil__',\n",
       " '__class__',\n",
       " '__delattr__',\n",
       " '__dir__',\n",
       " '__divmod__',\n",
       " '__doc__']"
      ]
     },
     "execution_count": 2,
     "metadata": {},
     "output_type": "execute_result"
    }
   ],
   "source": [
    "methods = dir(34) # get methods for integer objects\n",
    "methods[0:10]"
   ]
  },
  {
   "cell_type": "markdown",
   "metadata": {},
   "source": [
    "For example, `lower` is a method of class `str`."
   ]
  },
  {
   "cell_type": "code",
   "execution_count": 3,
   "metadata": {},
   "outputs": [
    {
     "data": {
      "text/plain": [
       "<function str.lower()>"
      ]
     },
     "execution_count": 3,
     "metadata": {},
     "output_type": "execute_result"
    }
   ],
   "source": [
    "\"HI\".lower"
   ]
  },
  {
   "cell_type": "code",
   "execution_count": 4,
   "metadata": {},
   "outputs": [
    {
     "data": {
      "text/plain": [
       "'hi'"
      ]
     },
     "execution_count": 4,
     "metadata": {},
     "output_type": "execute_result"
    }
   ],
   "source": [
    "\"HI\".lower()"
   ]
  },
  {
   "cell_type": "markdown",
   "metadata": {},
   "source": [
    "In `\"HI\".lower()` we are sending the `lower` message to the `\"HI\"` string object. Messages are really just functions associated with classes/objects."
   ]
  },
  {
   "cell_type": "markdown",
   "metadata": {},
   "source": [
    "In a language that does not support object learning programming, we would do something like:\n",
    "\n",
    "```python\n",
    "lower(x)\n",
    "```\n",
    "\n",
    "Python has both functions and object-oriented programming which is why there is both `x.lower()` and:"
   ]
  },
  {
   "cell_type": "code",
   "execution_count": 5,
   "metadata": {},
   "outputs": [
    {
     "data": {
      "text/plain": [
       "2"
      ]
     },
     "execution_count": 5,
     "metadata": {},
     "output_type": "execute_result"
    }
   ],
   "source": [
    "len(\"HI\")"
   ]
  },
  {
   "cell_type": "markdown",
   "metadata": {},
   "source": [
    "The choice of function or \"message\" is up to the library designer, but `lower` only makes sense for strings so it makes sense to group it with the definition of `str`.\n",
    "\n",
    "In terms of implementation, however, `x.lower()` is actually implemented as `str.lower(x)` where `str` is the class definition for strings. Computer processors understand function calls; they do not understand objects and so we performed this translation within the Python interpreter itself.\n",
    "\n",
    "Don't confuse object and package/module member access. The dot `.` operator is overloaded in Python to mean both package/module member and object member access.  You are familiar with this already:"
   ]
  },
  {
   "cell_type": "code",
   "execution_count": 7,
   "metadata": {},
   "outputs": [
    {
     "data": {
      "text/plain": [
       "array([1, 2, 3])"
      ]
     },
     "execution_count": 7,
     "metadata": {},
     "output_type": "execute_result"
    }
   ],
   "source": [
    "import numpy as np\n",
    "np.array([1,2,3])"
   ]
  },
  {
   "cell_type": "code",
   "execution_count": 7,
   "metadata": {},
   "outputs": [
    {
     "data": {
      "text/plain": [
       "8.006367567650246"
      ]
     },
     "execution_count": 7,
     "metadata": {},
     "output_type": "execute_result"
    }
   ],
   "source": [
    "import math\n",
    "math.log(3000)"
   ]
  },
  {
   "cell_type": "markdown",
   "metadata": {},
   "source": [
    "This is a common point of confusion when reading code. When we see `a.f()`, we don't know whether that function `f` is a member of the module identified by `a` or an object referred to by `a`."
   ]
  },
  {
   "cell_type": "markdown",
   "metadata": {},
   "source": [
    "**Fields versus methods**\n",
    "\n",
    "Objects have functions, which we call *methods* to distinguish them from functions not associated with objects. Objects also have variables, which we call *fields* or *instance variables*.  \n",
    "\n",
    "Fields are the *state* of the object.  Methods are the *behavior* of the object."
   ]
  },
  {
   "cell_type": "markdown",
   "metadata": {},
   "source": [
    "## Defining custom objects\n",
    "\n",
    "Let's say we wanted to load a bunch of documents into memory and each document has a title and content. We could just create a list of tuples:"
   ]
  },
  {
   "cell_type": "code",
   "execution_count": 10,
   "metadata": {},
   "outputs": [],
   "source": [
    "docs = [('Cats are Human', 'blah blah'),\n",
    "        ('Dogs are fun', 'yadda yadda')]"
   ]
  },
  {
   "cell_type": "markdown",
   "metadata": {},
   "source": [
    "The problem is that we don't get to name the individual elements of each document. For example, the title of the first document is `docs[0][0]`. Wouldn't it be better if we we could name the individual elements? Sure. Let's make each document be a dictionary:"
   ]
  },
  {
   "cell_type": "code",
   "execution_count": 11,
   "metadata": {},
   "outputs": [],
   "source": [
    "docs = [{'title':'Cats are Human', 'content':'blah blah'},\n",
    "        {'title':'Dogs are fun', 'content':'yadda yadda'}]"
   ]
  },
  {
   "cell_type": "markdown",
   "metadata": {},
   "source": [
    "Now, the title of the first document is `docs[0]['title']`:"
   ]
  },
  {
   "cell_type": "code",
   "execution_count": 12,
   "metadata": {},
   "outputs": [
    {
     "name": "stdout",
     "output_type": "stream",
     "text": [
      "Cats are Human : blah blah\n",
      "Dogs are fun : yadda yadda\n"
     ]
    }
   ],
   "source": [
    "for d in docs:\n",
    "    print(d['title'],':',d['content'])"
   ]
  },
  {
   "cell_type": "markdown",
   "metadata": {},
   "source": [
    "Python implemention of objects is very dictionary-like (from what I read and experience). But, instead of `d['title']`, we access variables (fields) of objects with `d.title`. To gain access to that notation, there is formal mechanism to create classes of objects:"
   ]
  },
  {
   "cell_type": "code",
   "execution_count": 9,
   "metadata": {},
   "outputs": [],
   "source": [
    "class Doc:\n",
    "    pass # pass means \"do nothing\"\n",
    "\n",
    "d = Doc()\n",
    "d.title = 'Cats are Human' # assign values to fields of that object\n",
    "d.content = 'blah blah'"
   ]
  },
  {
   "cell_type": "markdown",
   "metadata": {},
   "source": [
    "While we can name fields that way, it's better to use a *constructor method*:"
   ]
  },
  {
   "cell_type": "code",
   "execution_count": 13,
   "metadata": {},
   "outputs": [],
   "source": [
    "class Doc:\n",
    "    def __init__(self, title, content):\n",
    "        self.title = title\n",
    "        self.content = content"
   ]
  },
  {
   "cell_type": "code",
   "execution_count": 14,
   "metadata": {},
   "outputs": [
    {
     "data": {
      "text/plain": [
       "[<__main__.Doc at 0x7fde515d82b0>, <__main__.Doc at 0x7fde515d8580>]"
      ]
     },
     "execution_count": 14,
     "metadata": {},
     "output_type": "execute_result"
    }
   ],
   "source": [
    "docs = [Doc('Cats are Human', 'blah blah'),\n",
    "        Doc(title='Dogs are fun', content='yadda yadda')]\n",
    "docs"
   ]
  },
  {
   "cell_type": "code",
   "execution_count": 12,
   "metadata": {},
   "outputs": [
    {
     "name": "stdout",
     "output_type": "stream",
     "text": [
      "Cats are Human:blah blah\n",
      "Dogs are fun:yadda yadda\n"
     ]
    }
   ],
   "source": [
    "for d in docs:\n",
    "    print(f\"{d.title}:{d.content}\")"
   ]
  },
  {
   "cell_type": "markdown",
   "metadata": {},
   "source": [
    "Using the constructor, `__init__()`, we get more readable code and it allows us to assign the incoming parameters to fields of the object.  Unfortunately, Python doesn't know how to print out our custom objects so we have to add another funny looking method:"
   ]
  },
  {
   "cell_type": "code",
   "execution_count": 15,
   "metadata": {},
   "outputs": [
    {
     "name": "stdout",
     "output_type": "stream",
     "text": [
      "Doc(Cats are Human, blah blah)\n",
      "Doc(Cats are Human, blah blah)\n"
     ]
    }
   ],
   "source": [
    "class Doc:\n",
    "    def __init__(self, title, content):\n",
    "        self.title = title\n",
    "        self.content = content\n",
    "    def __str__(self): # called when conversion to string needed like print\n",
    "        return f\"Doc({self.title}, {self.content})\"\n",
    "\n",
    "docs = [Doc('Cats are Human', 'blah blah'),\n",
    "        Doc(title='Dogs are fun', content='yadda yadda')]\n",
    "\n",
    "print(docs[0])\n",
    "print(str(docs[0]))"
   ]
  },
  {
   "cell_type": "markdown",
   "metadata": {},
   "source": [
    "**The key to understanding methods versus functions**"
   ]
  },
  {
   "cell_type": "code",
   "execution_count": 15,
   "metadata": {},
   "outputs": [],
   "source": [
    "class Doc:\n",
    "    def __init__(self, title, content):\n",
    "        self.title = title\n",
    "        self.content = content\n",
    "        \n",
    "    def save(self, filename):\n",
    "        print(f\"saving doc into {filename}\") # pretend to save\n",
    "        \n",
    "    def __str__(self): # called when conversion to string needed like print\n",
    "        return f\"Doc({self.title}, {self.content})\"\n"
   ]
  },
  {
   "cell_type": "markdown",
   "metadata": {},
   "source": [
    "For some `Doc` called `d`, `d.save(\"t.txt\")` **method call** is translated and executed by the Python interpreter as **function call** `Doc.save(d,\"t.txt\")`. `d` becomes parameter `self` and so the `save()` function is operating on doc `d`.\n",
    "\n",
    "Why we prefer `d.save(\"t.txt\")` over `Doc.save(d,\"t.txt\")`: Instead of just functions, we send messages back and forth between objects. Instead of bark(dog) we say dog.bark() or instead of inflate(ball) we say ball.inflate()."
   ]
  },
  {
   "cell_type": "markdown",
   "metadata": {},
   "source": [
    "Warning: Make sure that you use `self.x` to refer to field `x` from methods within a class, otherwise you are creating a local variable inside a method:"
   ]
  },
  {
   "cell_type": "code",
   "execution_count": 25,
   "metadata": {},
   "outputs": [],
   "source": [
    "class Foo:\n",
    "    def __init__(self, x):\n",
    "        self.x = x\n",
    "    def foo(self):\n",
    "        x = 3 # WARNING: does not alter the field! should be self.x"
   ]
  },
  {
   "cell_type": "code",
   "execution_count": 26,
   "metadata": {},
   "outputs": [
    {
     "data": {
      "text/plain": [
       "99"
      ]
     },
     "execution_count": 26,
     "metadata": {},
     "output_type": "execute_result"
    }
   ],
   "source": [
    "f = Foo(99)\n",
    "f.x"
   ]
  },
  {
   "cell_type": "code",
   "execution_count": 27,
   "metadata": {},
   "outputs": [
    {
     "data": {
      "text/plain": [
       "99"
      ]
     },
     "execution_count": 27,
     "metadata": {},
     "output_type": "execute_result"
    }
   ],
   "source": [
    "f.foo()\n",
    "f.x"
   ]
  },
  {
   "cell_type": "markdown",
   "metadata": {},
   "source": [
    "## Exercise\n",
    "\n",
    "Define a class called `Point` that has a constructor taking x, y coordinates and make them fields of the class.\n",
    "\n",
    "Define method `distance(q)` that takes a `Point` and returns the Euclidean distance  from `self` to `q`.\n",
    "\n",
    "Test with\n",
    "\n",
    "```\n",
    "p = Point(3,4)\n",
    "q = Point(5,6)\n",
    "print(p.distance(q))\n",
    "```\n",
    "\n",
    "Add method `__str__` so that `print(q)` prints something nice like `(3,4)`."
   ]
  },
  {
   "cell_type": "markdown",
   "metadata": {},
   "source": [
    "## Binary trees whose nodes are objects\n",
    "\n",
    "The tree data structure is one of the most important in computer science and is extremely common in data science as well. Decision trees, which form the core of gradient boosting machines and random forests (machine learning algorithms), are naturally represented as trees in memory. When we process HTML and XML files, those are generally represented by trees. For example:\n",
    "\n",
    "<img align=\"right\" src=\"figures/xml-tree.png\" width=\"200\"></td>\n",
    "```xml\n",
    "<bookstore>\n",
    "  <book category=\"cooking\">\n",
    "    <title lang=\"en\">Everyday Italian</title>\n",
    "    <author>Giada De Laurentiis</author>\n",
    "    <year>2005</year>\n",
    "    <price>30.00</price>\n",
    "  </book>\n",
    "  <book category=\"web\">\n",
    "    <title lang=\"en\">Learning XML</title>\n",
    "    <author>Erik T. Ray</author>\n",
    "    <year>2003</year>\n",
    "    <price>39.95</price>\n",
    "  </book>\n",
    "</bookstore>\n",
    "```\n",
    "\n",
    "We're going to look at a simple kind of tree that has at most two children: a *binary tree*. A node that has no children is called a *leaf* and non-leaves are called *internal nodes*.\n",
    "\n",
    "In general, trees with $n$ nodes have $n-1$ edges. Each node has a single incoming edge and the root has none.\n",
    "\n",
    "Nodes have *parents* and *children* and *siblings* (at the same level).\n",
    "\n",
    "Sometimes nodes have links back to their parents for programming convenience reasons. That would make it a graph not a tree but we still consider it a tree."
   ]
  },
  {
   "cell_type": "code",
   "execution_count": 16,
   "metadata": {},
   "outputs": [],
   "source": [
    "class Tree:\n",
    "    def __init__(self, value, left=None, right=None):\n",
    "        self.value = value\n",
    "        self.left = left\n",
    "        self.right = right      "
   ]
  },
  {
   "cell_type": "code",
   "execution_count": 17,
   "metadata": {},
   "outputs": [
    {
     "data": {
      "image/svg+xml": [
       "<?xml version=\"1.0\" encoding=\"UTF-8\" standalone=\"no\"?>\n",
       "<!DOCTYPE svg PUBLIC \"-//W3C//DTD SVG 1.1//EN\"\n",
       " \"http://www.w3.org/Graphics/SVG/1.1/DTD/svg11.dtd\">\n",
       "<!-- Generated by graphviz version 2.44.1 (20200629.0846)\n",
       " -->\n",
       "<!-- Title: G Pages: 1 -->\n",
       "<svg width=\"71pt\" height=\"64pt\"\n",
       " viewBox=\"0.00 0.00 71.00 64.00\" xmlns=\"http://www.w3.org/2000/svg\" xmlns:xlink=\"http://www.w3.org/1999/xlink\">\n",
       "<g id=\"graph0\" class=\"graph\" transform=\"scale(1 1) rotate(0) translate(4 60)\">\n",
       "<title>G</title>\n",
       "<polygon fill=\"white\" stroke=\"transparent\" points=\"-4,4 -4,-60 67,-60 67,4 -4,4\"/>\n",
       "<!-- node140458863642176 -->\n",
       "<g id=\"node1\" class=\"node\">\n",
       "<title>node140458863642176</title>\n",
       "<polygon fill=\"#fefecd\" stroke=\"#444443\" stroke-width=\"0.5\" points=\"63,-56 0,-56 0,0 63,0 63,-56\"/>\n",
       "<polygon fill=\"#fefecd\" stroke=\"transparent\" points=\"2.5,-40 2.5,-54 61.5,-54 61.5,-40 2.5,-40\"/>\n",
       "<polyline fill=\"none\" stroke=\"#444443\" points=\"2.5,-40 61.5,-40 \"/>\n",
       "<text text-anchor=\"start\" x=\"22\" y=\"-44.2\" font-family=\"Times,serif\" font-style=\"italic\" font-size=\"11.00\" fill=\"#444443\">Tree</text>\n",
       "<polygon fill=\"#fefecd\" stroke=\"transparent\" points=\"2.5,-38 2.5,-40 61.5,-40 61.5,-38 2.5,-38\"/>\n",
       "<polygon fill=\"#fefecd\" stroke=\"transparent\" points=\"2.5,-24 2.5,-38 33.5,-38 33.5,-24 2.5,-24\"/>\n",
       "<polyline fill=\"none\" stroke=\"#444443\" points=\"33.5,-24 33.5,-38 \"/>\n",
       "<text text-anchor=\"start\" x=\"3.5\" y=\"-28.2\" font-family=\"Helvetica,sans-Serif\" font-size=\"11.00\" fill=\"#444443\">value </text>\n",
       "<polygon fill=\"#fefecd\" stroke=\"transparent\" points=\"33.5,-24 33.5,-38 61.5,-38 61.5,-24 33.5,-24\"/>\n",
       "<text text-anchor=\"start\" x=\"34.5\" y=\"-28.2\" font-family=\"Helvetica,sans-Serif\" font-size=\"11.00\" fill=\"#444443\"> &#39;100&#39;</text>\n",
       "<polyline fill=\"none\" stroke=\"#444443\" points=\"2.5,-21 61.5,-21 \"/>\n",
       "<polygon fill=\"#fefecd\" stroke=\"transparent\" points=\"2.5,-19 2.5,-21 61.5,-21 61.5,-19 2.5,-19\"/>\n",
       "<polygon fill=\"#fefecd\" stroke=\"transparent\" points=\"2.5,-10 2.5,-19 33.5,-19 33.5,-10 2.5,-10\"/>\n",
       "<polyline fill=\"none\" stroke=\"#444443\" points=\"33.5,-10 33.5,-19 \"/>\n",
       "<text text-anchor=\"start\" x=\"3.5\" y=\"-13.2\" font-family=\"Helvetica,sans-Serif\" font-size=\"6.00\" fill=\"#444443\">left</text>\n",
       "<polygon fill=\"#fefecd\" stroke=\"transparent\" points=\"33.5,-10 33.5,-19 33.5,-19 33.5,-10 33.5,-10\"/>\n",
       "<polygon fill=\"#fefecd\" stroke=\"transparent\" points=\"33.5,-10 33.5,-19 61.5,-19 61.5,-10 33.5,-10\"/>\n",
       "<text text-anchor=\"start\" x=\"48.5\" y=\"-13.2\" font-family=\"Helvetica,sans-Serif\" font-size=\"6.00\" fill=\"#444443\">right</text>\n",
       "<polygon fill=\"#fefecd\" stroke=\"transparent\" points=\"2.5,-7 2.5,-10 33.5,-10 33.5,-7 2.5,-7\"/>\n",
       "<polyline fill=\"none\" stroke=\"#444443\" points=\"33.5,-7 33.5,-10 \"/>\n",
       "<text text-anchor=\"start\" x=\"17.86\" y=\"-8.1\" font-family=\"Helvetica,sans-Serif\" font-size=\"1.00\" fill=\"#444443\"> </text>\n",
       "<polygon fill=\"#fefecd\" stroke=\"transparent\" points=\"33.5,-7 33.5,-10 33.5,-10 33.5,-7 33.5,-7\"/>\n",
       "<polygon fill=\"#fefecd\" stroke=\"transparent\" points=\"33.5,-7 33.5,-10 61.5,-10 61.5,-7 33.5,-7\"/>\n",
       "<text text-anchor=\"start\" x=\"47.36\" y=\"-8.2\" font-family=\"Helvetica,sans-Serif\" font-size=\"1.00\" fill=\"#444443\"> </text>\n",
       "<polygon fill=\"#fefecd\" stroke=\"transparent\" points=\"2.5,-2 2.5,-7 33.5,-7 33.5,-2 2.5,-2\"/>\n",
       "<polyline fill=\"none\" stroke=\"#444443\" points=\"33.5,-2 33.5,-7 \"/>\n",
       "<text text-anchor=\"start\" x=\"17.5\" y=\"-3.6\" font-family=\"Helvetica,sans-Serif\" font-size=\"3.00\" fill=\"#444443\"> </text>\n",
       "<polygon fill=\"#fefecd\" stroke=\"transparent\" points=\"33.5,-2 33.5,-7 33.5,-7 33.5,-2 33.5,-2\"/>\n",
       "<polygon fill=\"#fefecd\" stroke=\"transparent\" points=\"33.5,-2 33.5,-7 61.5,-7 61.5,-2 33.5,-2\"/>\n",
       "<text text-anchor=\"start\" x=\"47\" y=\"-3.6\" font-family=\"Helvetica,sans-Serif\" font-size=\"3.00\" fill=\"#444443\"> </text>\n",
       "</g>\n",
       "</g>\n",
       "</svg>\n"
      ],
      "text/plain": [
       "<graphviz.files.Source at 0x7fbf20ab36d0>"
      ]
     },
     "execution_count": 17,
     "metadata": {},
     "output_type": "execute_result"
    }
   ],
   "source": [
    "from lolviz import *\n",
    "\n",
    "root = Tree(100)\n",
    "treeviz(root)"
   ]
  },
  {
   "cell_type": "code",
   "execution_count": 18,
   "metadata": {},
   "outputs": [
    {
     "data": {
      "image/svg+xml": [
       "<?xml version=\"1.0\" encoding=\"UTF-8\" standalone=\"no\"?>\n",
       "<!DOCTYPE svg PUBLIC \"-//W3C//DTD SVG 1.1//EN\"\n",
       " \"http://www.w3.org/Graphics/SVG/1.1/DTD/svg11.dtd\">\n",
       "<!-- Generated by graphviz version 2.44.1 (20200629.0846)\n",
       " -->\n",
       "<!-- Title: G Pages: 1 -->\n",
       "<svg width=\"135pt\" height=\"142pt\"\n",
       " viewBox=\"0.00 0.00 134.50 142.00\" xmlns=\"http://www.w3.org/2000/svg\" xmlns:xlink=\"http://www.w3.org/1999/xlink\">\n",
       "<g id=\"graph0\" class=\"graph\" transform=\"scale(1 1) rotate(0) translate(4 138)\">\n",
       "<title>G</title>\n",
       "<polygon fill=\"white\" stroke=\"transparent\" points=\"-4,4 -4,-138 130.5,-138 130.5,4 -4,4\"/>\n",
       "<!-- node140458863642176 -->\n",
       "<g id=\"node1\" class=\"node\">\n",
       "<title>node140458863642176</title>\n",
       "<polygon fill=\"#fefecd\" stroke=\"#444443\" stroke-width=\"0.5\" points=\"92,-134 29,-134 29,-78 92,-78 92,-134\"/>\n",
       "<polygon fill=\"#fefecd\" stroke=\"transparent\" points=\"31.5,-118 31.5,-132 90.5,-132 90.5,-118 31.5,-118\"/>\n",
       "<polyline fill=\"none\" stroke=\"#444443\" points=\"31.5,-118 90.5,-118 \"/>\n",
       "<text text-anchor=\"start\" x=\"51\" y=\"-122.2\" font-family=\"Times,serif\" font-style=\"italic\" font-size=\"11.00\" fill=\"#444443\">Tree</text>\n",
       "<polygon fill=\"#fefecd\" stroke=\"transparent\" points=\"31.5,-116 31.5,-118 90.5,-118 90.5,-116 31.5,-116\"/>\n",
       "<polygon fill=\"#fefecd\" stroke=\"transparent\" points=\"31.5,-102 31.5,-116 62.5,-116 62.5,-102 31.5,-102\"/>\n",
       "<polyline fill=\"none\" stroke=\"#444443\" points=\"62.5,-102 62.5,-116 \"/>\n",
       "<text text-anchor=\"start\" x=\"32.5\" y=\"-106.2\" font-family=\"Helvetica,sans-Serif\" font-size=\"11.00\" fill=\"#444443\">value </text>\n",
       "<polygon fill=\"#fefecd\" stroke=\"transparent\" points=\"62.5,-102 62.5,-116 90.5,-116 90.5,-102 62.5,-102\"/>\n",
       "<text text-anchor=\"start\" x=\"63.5\" y=\"-106.2\" font-family=\"Helvetica,sans-Serif\" font-size=\"11.00\" fill=\"#444443\"> &#39;100&#39;</text>\n",
       "<polyline fill=\"none\" stroke=\"#444443\" points=\"31.5,-99 90.5,-99 \"/>\n",
       "<polygon fill=\"#fefecd\" stroke=\"transparent\" points=\"31.5,-97 31.5,-99 90.5,-99 90.5,-97 31.5,-97\"/>\n",
       "<polygon fill=\"#fefecd\" stroke=\"transparent\" points=\"31.5,-88 31.5,-97 62.5,-97 62.5,-88 31.5,-88\"/>\n",
       "<polyline fill=\"none\" stroke=\"#444443\" points=\"62.5,-88 62.5,-97 \"/>\n",
       "<text text-anchor=\"start\" x=\"32.5\" y=\"-91.2\" font-family=\"Helvetica,sans-Serif\" font-size=\"6.00\" fill=\"#444443\">left</text>\n",
       "<polygon fill=\"#fefecd\" stroke=\"transparent\" points=\"62.5,-88 62.5,-97 62.5,-97 62.5,-88 62.5,-88\"/>\n",
       "<polygon fill=\"#fefecd\" stroke=\"transparent\" points=\"62.5,-88 62.5,-97 90.5,-97 90.5,-88 62.5,-88\"/>\n",
       "<text text-anchor=\"start\" x=\"77.5\" y=\"-91.2\" font-family=\"Helvetica,sans-Serif\" font-size=\"6.00\" fill=\"#444443\">right</text>\n",
       "<polygon fill=\"#fefecd\" stroke=\"transparent\" points=\"31.5,-85 31.5,-88 62.5,-88 62.5,-85 31.5,-85\"/>\n",
       "<polyline fill=\"none\" stroke=\"#444443\" points=\"62.5,-85 62.5,-88 \"/>\n",
       "<text text-anchor=\"start\" x=\"46.86\" y=\"-86.1\" font-family=\"Helvetica,sans-Serif\" font-size=\"1.00\" fill=\"#444443\"> </text>\n",
       "<polygon fill=\"#fefecd\" stroke=\"transparent\" points=\"62.5,-85 62.5,-88 62.5,-88 62.5,-85 62.5,-85\"/>\n",
       "<polygon fill=\"#fefecd\" stroke=\"transparent\" points=\"62.5,-85 62.5,-88 90.5,-88 90.5,-85 62.5,-85\"/>\n",
       "<text text-anchor=\"start\" x=\"76.36\" y=\"-86.2\" font-family=\"Helvetica,sans-Serif\" font-size=\"1.00\" fill=\"#444443\"> </text>\n",
       "<polygon fill=\"#fefecd\" stroke=\"transparent\" points=\"31.5,-80 31.5,-85 62.5,-85 62.5,-80 31.5,-80\"/>\n",
       "<polyline fill=\"none\" stroke=\"#444443\" points=\"62.5,-80 62.5,-85 \"/>\n",
       "<text text-anchor=\"start\" x=\"46.5\" y=\"-81.6\" font-family=\"Helvetica,sans-Serif\" font-size=\"3.00\" fill=\"#444443\"> </text>\n",
       "<polygon fill=\"#fefecd\" stroke=\"transparent\" points=\"62.5,-80 62.5,-85 62.5,-85 62.5,-80 62.5,-80\"/>\n",
       "<polygon fill=\"#fefecd\" stroke=\"transparent\" points=\"62.5,-80 62.5,-85 90.5,-85 90.5,-80 62.5,-80\"/>\n",
       "<text text-anchor=\"start\" x=\"76\" y=\"-81.6\" font-family=\"Helvetica,sans-Serif\" font-size=\"3.00\" fill=\"#444443\"> </text>\n",
       "</g>\n",
       "<!-- node140458863785440 -->\n",
       "<g id=\"node2\" class=\"node\">\n",
       "<title>node140458863785440</title>\n",
       "<polygon fill=\"#fefecd\" stroke=\"#444443\" stroke-width=\"0.5\" points=\"57,-56 0,-56 0,0 57,0 57,-56\"/>\n",
       "<polygon fill=\"#fefecd\" stroke=\"transparent\" points=\"2.5,-40 2.5,-54 55.5,-54 55.5,-40 2.5,-40\"/>\n",
       "<polyline fill=\"none\" stroke=\"#444443\" points=\"2.5,-40 55.5,-40 \"/>\n",
       "<text text-anchor=\"start\" x=\"19\" y=\"-44.2\" font-family=\"Times,serif\" font-style=\"italic\" font-size=\"11.00\" fill=\"#444443\">Tree</text>\n",
       "<polygon fill=\"#fefecd\" stroke=\"transparent\" points=\"2.5,-38 2.5,-40 55.5,-40 55.5,-38 2.5,-38\"/>\n",
       "<polygon fill=\"#fefecd\" stroke=\"transparent\" points=\"2.5,-24 2.5,-38 33.5,-38 33.5,-24 2.5,-24\"/>\n",
       "<polyline fill=\"none\" stroke=\"#444443\" points=\"33.5,-24 33.5,-38 \"/>\n",
       "<text text-anchor=\"start\" x=\"3.5\" y=\"-28.2\" font-family=\"Helvetica,sans-Serif\" font-size=\"11.00\" fill=\"#444443\">value </text>\n",
       "<polygon fill=\"#fefecd\" stroke=\"transparent\" points=\"33.5,-24 33.5,-38 55.5,-38 55.5,-24 33.5,-24\"/>\n",
       "<text text-anchor=\"start\" x=\"34.5\" y=\"-28.2\" font-family=\"Helvetica,sans-Serif\" font-size=\"11.00\" fill=\"#444443\"> &#39;42&#39;</text>\n",
       "<polyline fill=\"none\" stroke=\"#444443\" points=\"2.5,-21 55.5,-21 \"/>\n",
       "<polygon fill=\"#fefecd\" stroke=\"transparent\" points=\"2.5,-19 2.5,-21 55.5,-21 55.5,-19 2.5,-19\"/>\n",
       "<polygon fill=\"#fefecd\" stroke=\"transparent\" points=\"2.5,-10 2.5,-19 33.5,-19 33.5,-10 2.5,-10\"/>\n",
       "<polyline fill=\"none\" stroke=\"#444443\" points=\"33.5,-10 33.5,-19 \"/>\n",
       "<text text-anchor=\"start\" x=\"3.5\" y=\"-13.2\" font-family=\"Helvetica,sans-Serif\" font-size=\"6.00\" fill=\"#444443\">left</text>\n",
       "<polygon fill=\"#fefecd\" stroke=\"transparent\" points=\"33.5,-10 33.5,-19 33.5,-19 33.5,-10 33.5,-10\"/>\n",
       "<polygon fill=\"#fefecd\" stroke=\"transparent\" points=\"33.5,-10 33.5,-19 55.5,-19 55.5,-10 33.5,-10\"/>\n",
       "<text text-anchor=\"start\" x=\"42.5\" y=\"-13.2\" font-family=\"Helvetica,sans-Serif\" font-size=\"6.00\" fill=\"#444443\">right</text>\n",
       "<polygon fill=\"#fefecd\" stroke=\"transparent\" points=\"2.5,-7 2.5,-10 33.5,-10 33.5,-7 2.5,-7\"/>\n",
       "<polyline fill=\"none\" stroke=\"#444443\" points=\"33.5,-7 33.5,-10 \"/>\n",
       "<text text-anchor=\"start\" x=\"17.86\" y=\"-8.1\" font-family=\"Helvetica,sans-Serif\" font-size=\"1.00\" fill=\"#444443\"> </text>\n",
       "<polygon fill=\"#fefecd\" stroke=\"transparent\" points=\"33.5,-7 33.5,-10 33.5,-10 33.5,-7 33.5,-7\"/>\n",
       "<polygon fill=\"#fefecd\" stroke=\"transparent\" points=\"33.5,-7 33.5,-10 55.5,-10 55.5,-7 33.5,-7\"/>\n",
       "<text text-anchor=\"start\" x=\"44.36\" y=\"-8.2\" font-family=\"Helvetica,sans-Serif\" font-size=\"1.00\" fill=\"#444443\"> </text>\n",
       "<polygon fill=\"#fefecd\" stroke=\"transparent\" points=\"2.5,-2 2.5,-7 33.5,-7 33.5,-2 2.5,-2\"/>\n",
       "<polyline fill=\"none\" stroke=\"#444443\" points=\"33.5,-2 33.5,-7 \"/>\n",
       "<text text-anchor=\"start\" x=\"17.5\" y=\"-3.6\" font-family=\"Helvetica,sans-Serif\" font-size=\"3.00\" fill=\"#444443\"> </text>\n",
       "<polygon fill=\"#fefecd\" stroke=\"transparent\" points=\"33.5,-2 33.5,-7 33.5,-7 33.5,-2 33.5,-2\"/>\n",
       "<polygon fill=\"#fefecd\" stroke=\"transparent\" points=\"33.5,-2 33.5,-7 55.5,-7 55.5,-2 33.5,-2\"/>\n",
       "<text text-anchor=\"start\" x=\"44\" y=\"-3.6\" font-family=\"Helvetica,sans-Serif\" font-size=\"3.00\" fill=\"#444443\"> </text>\n",
       "</g>\n",
       "<!-- node140458863642176&#45;&gt;node140458863785440 -->\n",
       "<g id=\"edge1\" class=\"edge\">\n",
       "<title>node140458863642176:c&#45;&gt;node140458863785440</title>\n",
       "<path fill=\"none\" stroke=\"#444443\" stroke-width=\"0.5\" d=\"M45.49,-81.85C44.06,-77.41 41.31,-68.84 38.42,-59.87\"/>\n",
       "<ellipse fill=\"#444443\" stroke=\"#444443\" stroke-width=\"0.5\" cx=\"46.01\" cy=\"-83.48\" rx=\"1.6\" ry=\"1.6\"/>\n",
       "<polygon fill=\"#444443\" stroke=\"#444443\" stroke-width=\"0.5\" points=\"39.74,-59.4 37.18,-56.02 37.07,-60.25 39.74,-59.4\"/>\n",
       "</g>\n",
       "<!-- node140458863785296 -->\n",
       "<g id=\"node3\" class=\"node\">\n",
       "<title>node140458863785296</title>\n",
       "<polygon fill=\"#fefecd\" stroke=\"#444443\" stroke-width=\"0.5\" points=\"126.5,-56 64.5,-56 64.5,0 126.5,0 126.5,-56\"/>\n",
       "<polygon fill=\"#fefecd\" stroke=\"transparent\" points=\"66.5,-40 66.5,-54 124.5,-54 124.5,-40 66.5,-40\"/>\n",
       "<polyline fill=\"none\" stroke=\"#444443\" points=\"66.5,-40 124.5,-40 \"/>\n",
       "<text text-anchor=\"start\" x=\"85.5\" y=\"-44.2\" font-family=\"Times,serif\" font-style=\"italic\" font-size=\"11.00\" fill=\"#444443\">Tree</text>\n",
       "<polygon fill=\"#fefecd\" stroke=\"transparent\" points=\"66.5,-38 66.5,-40 124.5,-40 124.5,-38 66.5,-38\"/>\n",
       "<polygon fill=\"#fefecd\" stroke=\"transparent\" points=\"66.5,-24 66.5,-38 97.5,-38 97.5,-24 66.5,-24\"/>\n",
       "<polyline fill=\"none\" stroke=\"#444443\" points=\"97.5,-24 97.5,-38 \"/>\n",
       "<text text-anchor=\"start\" x=\"67.5\" y=\"-28.2\" font-family=\"Helvetica,sans-Serif\" font-size=\"11.00\" fill=\"#444443\">value </text>\n",
       "<polygon fill=\"#fefecd\" stroke=\"transparent\" points=\"97.5,-24 97.5,-38 124.5,-38 124.5,-24 97.5,-24\"/>\n",
       "<text text-anchor=\"start\" x=\"98.5\" y=\"-28.2\" font-family=\"Helvetica,sans-Serif\" font-size=\"11.00\" fill=\"#444443\"> &#39;111&#39;</text>\n",
       "<polyline fill=\"none\" stroke=\"#444443\" points=\"66.5,-21 124.5,-21 \"/>\n",
       "<polygon fill=\"#fefecd\" stroke=\"transparent\" points=\"66.5,-19 66.5,-21 124.5,-21 124.5,-19 66.5,-19\"/>\n",
       "<polygon fill=\"#fefecd\" stroke=\"transparent\" points=\"66.5,-10 66.5,-19 97.5,-19 97.5,-10 66.5,-10\"/>\n",
       "<polyline fill=\"none\" stroke=\"#444443\" points=\"97.5,-10 97.5,-19 \"/>\n",
       "<text text-anchor=\"start\" x=\"67.5\" y=\"-13.2\" font-family=\"Helvetica,sans-Serif\" font-size=\"6.00\" fill=\"#444443\">left</text>\n",
       "<polygon fill=\"#fefecd\" stroke=\"transparent\" points=\"97.5,-10 97.5,-19 97.5,-19 97.5,-10 97.5,-10\"/>\n",
       "<polygon fill=\"#fefecd\" stroke=\"transparent\" points=\"97.5,-10 97.5,-19 124.5,-19 124.5,-10 97.5,-10\"/>\n",
       "<text text-anchor=\"start\" x=\"111.5\" y=\"-13.2\" font-family=\"Helvetica,sans-Serif\" font-size=\"6.00\" fill=\"#444443\">right</text>\n",
       "<polygon fill=\"#fefecd\" stroke=\"transparent\" points=\"66.5,-7 66.5,-10 97.5,-10 97.5,-7 66.5,-7\"/>\n",
       "<polyline fill=\"none\" stroke=\"#444443\" points=\"97.5,-7 97.5,-10 \"/>\n",
       "<text text-anchor=\"start\" x=\"81.86\" y=\"-8.1\" font-family=\"Helvetica,sans-Serif\" font-size=\"1.00\" fill=\"#444443\"> </text>\n",
       "<polygon fill=\"#fefecd\" stroke=\"transparent\" points=\"97.5,-7 97.5,-10 97.5,-10 97.5,-7 97.5,-7\"/>\n",
       "<polygon fill=\"#fefecd\" stroke=\"transparent\" points=\"97.5,-7 97.5,-10 124.5,-10 124.5,-7 97.5,-7\"/>\n",
       "<text text-anchor=\"start\" x=\"110.86\" y=\"-8.2\" font-family=\"Helvetica,sans-Serif\" font-size=\"1.00\" fill=\"#444443\"> </text>\n",
       "<polygon fill=\"#fefecd\" stroke=\"transparent\" points=\"66.5,-2 66.5,-7 97.5,-7 97.5,-2 66.5,-2\"/>\n",
       "<polyline fill=\"none\" stroke=\"#444443\" points=\"97.5,-2 97.5,-7 \"/>\n",
       "<text text-anchor=\"start\" x=\"81.5\" y=\"-3.6\" font-family=\"Helvetica,sans-Serif\" font-size=\"3.00\" fill=\"#444443\"> </text>\n",
       "<polygon fill=\"#fefecd\" stroke=\"transparent\" points=\"97.5,-2 97.5,-7 97.5,-7 97.5,-2 97.5,-2\"/>\n",
       "<polygon fill=\"#fefecd\" stroke=\"transparent\" points=\"97.5,-2 97.5,-7 124.5,-7 124.5,-2 97.5,-2\"/>\n",
       "<text text-anchor=\"start\" x=\"110.5\" y=\"-3.6\" font-family=\"Helvetica,sans-Serif\" font-size=\"3.00\" fill=\"#444443\"> </text>\n",
       "</g>\n",
       "<!-- node140458863642176&#45;&gt;node140458863785296 -->\n",
       "<g id=\"edge2\" class=\"edge\">\n",
       "<title>node140458863642176:c&#45;&gt;node140458863785296</title>\n",
       "<path fill=\"none\" stroke=\"#444443\" stroke-width=\"0.5\" d=\"M77.57,-81.85C79.07,-77.41 81.98,-68.84 85.03,-59.87\"/>\n",
       "<ellipse fill=\"#444443\" stroke=\"#444443\" stroke-width=\"0.5\" cx=\"77.01\" cy=\"-83.48\" rx=\"1.6\" ry=\"1.6\"/>\n",
       "<polygon fill=\"#444443\" stroke=\"#444443\" stroke-width=\"0.5\" points=\"86.37,-60.25 86.33,-56.02 83.72,-59.35 86.37,-60.25\"/>\n",
       "</g>\n",
       "</g>\n",
       "</svg>\n"
      ],
      "text/plain": [
       "<graphviz.files.Source at 0x7fbf20ae7730>"
      ]
     },
     "execution_count": 18,
     "metadata": {},
     "output_type": "execute_result"
    }
   ],
   "source": [
    "root.left = Tree(42)\n",
    "root.right = Tree(111)\n",
    "treeviz(root)"
   ]
  },
  {
   "cell_type": "markdown",
   "metadata": {},
   "source": [
    "Here's an alternate spec:"
   ]
  },
  {
   "cell_type": "code",
   "execution_count": 19,
   "metadata": {},
   "outputs": [
    {
     "data": {
      "image/svg+xml": [
       "<?xml version=\"1.0\" encoding=\"UTF-8\" standalone=\"no\"?>\n",
       "<!DOCTYPE svg PUBLIC \"-//W3C//DTD SVG 1.1//EN\"\n",
       " \"http://www.w3.org/Graphics/SVG/1.1/DTD/svg11.dtd\">\n",
       "<!-- Generated by graphviz version 2.44.1 (20200629.0846)\n",
       " -->\n",
       "<!-- Title: G Pages: 1 -->\n",
       "<svg width=\"135pt\" height=\"142pt\"\n",
       " viewBox=\"0.00 0.00 134.50 142.00\" xmlns=\"http://www.w3.org/2000/svg\" xmlns:xlink=\"http://www.w3.org/1999/xlink\">\n",
       "<g id=\"graph0\" class=\"graph\" transform=\"scale(1 1) rotate(0) translate(4 138)\">\n",
       "<title>G</title>\n",
       "<polygon fill=\"white\" stroke=\"transparent\" points=\"-4,4 -4,-138 130.5,-138 130.5,4 -4,4\"/>\n",
       "<!-- node140458863786880 -->\n",
       "<g id=\"node1\" class=\"node\">\n",
       "<title>node140458863786880</title>\n",
       "<polygon fill=\"#fefecd\" stroke=\"#444443\" stroke-width=\"0.5\" points=\"92,-134 29,-134 29,-78 92,-78 92,-134\"/>\n",
       "<polygon fill=\"#fefecd\" stroke=\"transparent\" points=\"31.5,-118 31.5,-132 90.5,-132 90.5,-118 31.5,-118\"/>\n",
       "<polyline fill=\"none\" stroke=\"#444443\" points=\"31.5,-118 90.5,-118 \"/>\n",
       "<text text-anchor=\"start\" x=\"51\" y=\"-122.2\" font-family=\"Times,serif\" font-style=\"italic\" font-size=\"11.00\" fill=\"#444443\">Tree</text>\n",
       "<polygon fill=\"#fefecd\" stroke=\"transparent\" points=\"31.5,-116 31.5,-118 90.5,-118 90.5,-116 31.5,-116\"/>\n",
       "<polygon fill=\"#fefecd\" stroke=\"transparent\" points=\"31.5,-102 31.5,-116 62.5,-116 62.5,-102 31.5,-102\"/>\n",
       "<polyline fill=\"none\" stroke=\"#444443\" points=\"62.5,-102 62.5,-116 \"/>\n",
       "<text text-anchor=\"start\" x=\"32.5\" y=\"-106.2\" font-family=\"Helvetica,sans-Serif\" font-size=\"11.00\" fill=\"#444443\">value </text>\n",
       "<polygon fill=\"#fefecd\" stroke=\"transparent\" points=\"62.5,-102 62.5,-116 90.5,-116 90.5,-102 62.5,-102\"/>\n",
       "<text text-anchor=\"start\" x=\"63.5\" y=\"-106.2\" font-family=\"Helvetica,sans-Serif\" font-size=\"11.00\" fill=\"#444443\"> &#39;100&#39;</text>\n",
       "<polyline fill=\"none\" stroke=\"#444443\" points=\"31.5,-99 90.5,-99 \"/>\n",
       "<polygon fill=\"#fefecd\" stroke=\"transparent\" points=\"31.5,-97 31.5,-99 90.5,-99 90.5,-97 31.5,-97\"/>\n",
       "<polygon fill=\"#fefecd\" stroke=\"transparent\" points=\"31.5,-88 31.5,-97 62.5,-97 62.5,-88 31.5,-88\"/>\n",
       "<polyline fill=\"none\" stroke=\"#444443\" points=\"62.5,-88 62.5,-97 \"/>\n",
       "<text text-anchor=\"start\" x=\"32.5\" y=\"-91.2\" font-family=\"Helvetica,sans-Serif\" font-size=\"6.00\" fill=\"#444443\">left</text>\n",
       "<polygon fill=\"#fefecd\" stroke=\"transparent\" points=\"62.5,-88 62.5,-97 62.5,-97 62.5,-88 62.5,-88\"/>\n",
       "<polygon fill=\"#fefecd\" stroke=\"transparent\" points=\"62.5,-88 62.5,-97 90.5,-97 90.5,-88 62.5,-88\"/>\n",
       "<text text-anchor=\"start\" x=\"77.5\" y=\"-91.2\" font-family=\"Helvetica,sans-Serif\" font-size=\"6.00\" fill=\"#444443\">right</text>\n",
       "<polygon fill=\"#fefecd\" stroke=\"transparent\" points=\"31.5,-85 31.5,-88 62.5,-88 62.5,-85 31.5,-85\"/>\n",
       "<polyline fill=\"none\" stroke=\"#444443\" points=\"62.5,-85 62.5,-88 \"/>\n",
       "<text text-anchor=\"start\" x=\"46.86\" y=\"-86.1\" font-family=\"Helvetica,sans-Serif\" font-size=\"1.00\" fill=\"#444443\"> </text>\n",
       "<polygon fill=\"#fefecd\" stroke=\"transparent\" points=\"62.5,-85 62.5,-88 62.5,-88 62.5,-85 62.5,-85\"/>\n",
       "<polygon fill=\"#fefecd\" stroke=\"transparent\" points=\"62.5,-85 62.5,-88 90.5,-88 90.5,-85 62.5,-85\"/>\n",
       "<text text-anchor=\"start\" x=\"76.36\" y=\"-86.2\" font-family=\"Helvetica,sans-Serif\" font-size=\"1.00\" fill=\"#444443\"> </text>\n",
       "<polygon fill=\"#fefecd\" stroke=\"transparent\" points=\"31.5,-80 31.5,-85 62.5,-85 62.5,-80 31.5,-80\"/>\n",
       "<polyline fill=\"none\" stroke=\"#444443\" points=\"62.5,-80 62.5,-85 \"/>\n",
       "<text text-anchor=\"start\" x=\"46.5\" y=\"-81.6\" font-family=\"Helvetica,sans-Serif\" font-size=\"3.00\" fill=\"#444443\"> </text>\n",
       "<polygon fill=\"#fefecd\" stroke=\"transparent\" points=\"62.5,-80 62.5,-85 62.5,-85 62.5,-80 62.5,-80\"/>\n",
       "<polygon fill=\"#fefecd\" stroke=\"transparent\" points=\"62.5,-80 62.5,-85 90.5,-85 90.5,-80 62.5,-80\"/>\n",
       "<text text-anchor=\"start\" x=\"76\" y=\"-81.6\" font-family=\"Helvetica,sans-Serif\" font-size=\"3.00\" fill=\"#444443\"> </text>\n",
       "</g>\n",
       "<!-- node140458863786448 -->\n",
       "<g id=\"node2\" class=\"node\">\n",
       "<title>node140458863786448</title>\n",
       "<polygon fill=\"#fefecd\" stroke=\"#444443\" stroke-width=\"0.5\" points=\"57,-56 0,-56 0,0 57,0 57,-56\"/>\n",
       "<polygon fill=\"#fefecd\" stroke=\"transparent\" points=\"2.5,-40 2.5,-54 55.5,-54 55.5,-40 2.5,-40\"/>\n",
       "<polyline fill=\"none\" stroke=\"#444443\" points=\"2.5,-40 55.5,-40 \"/>\n",
       "<text text-anchor=\"start\" x=\"19\" y=\"-44.2\" font-family=\"Times,serif\" font-style=\"italic\" font-size=\"11.00\" fill=\"#444443\">Tree</text>\n",
       "<polygon fill=\"#fefecd\" stroke=\"transparent\" points=\"2.5,-38 2.5,-40 55.5,-40 55.5,-38 2.5,-38\"/>\n",
       "<polygon fill=\"#fefecd\" stroke=\"transparent\" points=\"2.5,-24 2.5,-38 33.5,-38 33.5,-24 2.5,-24\"/>\n",
       "<polyline fill=\"none\" stroke=\"#444443\" points=\"33.5,-24 33.5,-38 \"/>\n",
       "<text text-anchor=\"start\" x=\"3.5\" y=\"-28.2\" font-family=\"Helvetica,sans-Serif\" font-size=\"11.00\" fill=\"#444443\">value </text>\n",
       "<polygon fill=\"#fefecd\" stroke=\"transparent\" points=\"33.5,-24 33.5,-38 55.5,-38 55.5,-24 33.5,-24\"/>\n",
       "<text text-anchor=\"start\" x=\"34.5\" y=\"-28.2\" font-family=\"Helvetica,sans-Serif\" font-size=\"11.00\" fill=\"#444443\"> &#39;42&#39;</text>\n",
       "<polyline fill=\"none\" stroke=\"#444443\" points=\"2.5,-21 55.5,-21 \"/>\n",
       "<polygon fill=\"#fefecd\" stroke=\"transparent\" points=\"2.5,-19 2.5,-21 55.5,-21 55.5,-19 2.5,-19\"/>\n",
       "<polygon fill=\"#fefecd\" stroke=\"transparent\" points=\"2.5,-10 2.5,-19 33.5,-19 33.5,-10 2.5,-10\"/>\n",
       "<polyline fill=\"none\" stroke=\"#444443\" points=\"33.5,-10 33.5,-19 \"/>\n",
       "<text text-anchor=\"start\" x=\"3.5\" y=\"-13.2\" font-family=\"Helvetica,sans-Serif\" font-size=\"6.00\" fill=\"#444443\">left</text>\n",
       "<polygon fill=\"#fefecd\" stroke=\"transparent\" points=\"33.5,-10 33.5,-19 33.5,-19 33.5,-10 33.5,-10\"/>\n",
       "<polygon fill=\"#fefecd\" stroke=\"transparent\" points=\"33.5,-10 33.5,-19 55.5,-19 55.5,-10 33.5,-10\"/>\n",
       "<text text-anchor=\"start\" x=\"42.5\" y=\"-13.2\" font-family=\"Helvetica,sans-Serif\" font-size=\"6.00\" fill=\"#444443\">right</text>\n",
       "<polygon fill=\"#fefecd\" stroke=\"transparent\" points=\"2.5,-7 2.5,-10 33.5,-10 33.5,-7 2.5,-7\"/>\n",
       "<polyline fill=\"none\" stroke=\"#444443\" points=\"33.5,-7 33.5,-10 \"/>\n",
       "<text text-anchor=\"start\" x=\"17.86\" y=\"-8.1\" font-family=\"Helvetica,sans-Serif\" font-size=\"1.00\" fill=\"#444443\"> </text>\n",
       "<polygon fill=\"#fefecd\" stroke=\"transparent\" points=\"33.5,-7 33.5,-10 33.5,-10 33.5,-7 33.5,-7\"/>\n",
       "<polygon fill=\"#fefecd\" stroke=\"transparent\" points=\"33.5,-7 33.5,-10 55.5,-10 55.5,-7 33.5,-7\"/>\n",
       "<text text-anchor=\"start\" x=\"44.36\" y=\"-8.2\" font-family=\"Helvetica,sans-Serif\" font-size=\"1.00\" fill=\"#444443\"> </text>\n",
       "<polygon fill=\"#fefecd\" stroke=\"transparent\" points=\"2.5,-2 2.5,-7 33.5,-7 33.5,-2 2.5,-2\"/>\n",
       "<polyline fill=\"none\" stroke=\"#444443\" points=\"33.5,-2 33.5,-7 \"/>\n",
       "<text text-anchor=\"start\" x=\"17.5\" y=\"-3.6\" font-family=\"Helvetica,sans-Serif\" font-size=\"3.00\" fill=\"#444443\"> </text>\n",
       "<polygon fill=\"#fefecd\" stroke=\"transparent\" points=\"33.5,-2 33.5,-7 33.5,-7 33.5,-2 33.5,-2\"/>\n",
       "<polygon fill=\"#fefecd\" stroke=\"transparent\" points=\"33.5,-2 33.5,-7 55.5,-7 55.5,-2 33.5,-2\"/>\n",
       "<text text-anchor=\"start\" x=\"44\" y=\"-3.6\" font-family=\"Helvetica,sans-Serif\" font-size=\"3.00\" fill=\"#444443\"> </text>\n",
       "</g>\n",
       "<!-- node140458863786880&#45;&gt;node140458863786448 -->\n",
       "<g id=\"edge1\" class=\"edge\">\n",
       "<title>node140458863786880:c&#45;&gt;node140458863786448</title>\n",
       "<path fill=\"none\" stroke=\"#444443\" stroke-width=\"0.5\" d=\"M45.49,-81.85C44.06,-77.41 41.31,-68.84 38.42,-59.87\"/>\n",
       "<ellipse fill=\"#444443\" stroke=\"#444443\" stroke-width=\"0.5\" cx=\"46.01\" cy=\"-83.48\" rx=\"1.6\" ry=\"1.6\"/>\n",
       "<polygon fill=\"#444443\" stroke=\"#444443\" stroke-width=\"0.5\" points=\"39.74,-59.4 37.18,-56.02 37.07,-60.25 39.74,-59.4\"/>\n",
       "</g>\n",
       "<!-- node140458863786544 -->\n",
       "<g id=\"node3\" class=\"node\">\n",
       "<title>node140458863786544</title>\n",
       "<polygon fill=\"#fefecd\" stroke=\"#444443\" stroke-width=\"0.5\" points=\"126.5,-56 64.5,-56 64.5,0 126.5,0 126.5,-56\"/>\n",
       "<polygon fill=\"#fefecd\" stroke=\"transparent\" points=\"66.5,-40 66.5,-54 124.5,-54 124.5,-40 66.5,-40\"/>\n",
       "<polyline fill=\"none\" stroke=\"#444443\" points=\"66.5,-40 124.5,-40 \"/>\n",
       "<text text-anchor=\"start\" x=\"85.5\" y=\"-44.2\" font-family=\"Times,serif\" font-style=\"italic\" font-size=\"11.00\" fill=\"#444443\">Tree</text>\n",
       "<polygon fill=\"#fefecd\" stroke=\"transparent\" points=\"66.5,-38 66.5,-40 124.5,-40 124.5,-38 66.5,-38\"/>\n",
       "<polygon fill=\"#fefecd\" stroke=\"transparent\" points=\"66.5,-24 66.5,-38 97.5,-38 97.5,-24 66.5,-24\"/>\n",
       "<polyline fill=\"none\" stroke=\"#444443\" points=\"97.5,-24 97.5,-38 \"/>\n",
       "<text text-anchor=\"start\" x=\"67.5\" y=\"-28.2\" font-family=\"Helvetica,sans-Serif\" font-size=\"11.00\" fill=\"#444443\">value </text>\n",
       "<polygon fill=\"#fefecd\" stroke=\"transparent\" points=\"97.5,-24 97.5,-38 124.5,-38 124.5,-24 97.5,-24\"/>\n",
       "<text text-anchor=\"start\" x=\"98.5\" y=\"-28.2\" font-family=\"Helvetica,sans-Serif\" font-size=\"11.00\" fill=\"#444443\"> &#39;111&#39;</text>\n",
       "<polyline fill=\"none\" stroke=\"#444443\" points=\"66.5,-21 124.5,-21 \"/>\n",
       "<polygon fill=\"#fefecd\" stroke=\"transparent\" points=\"66.5,-19 66.5,-21 124.5,-21 124.5,-19 66.5,-19\"/>\n",
       "<polygon fill=\"#fefecd\" stroke=\"transparent\" points=\"66.5,-10 66.5,-19 97.5,-19 97.5,-10 66.5,-10\"/>\n",
       "<polyline fill=\"none\" stroke=\"#444443\" points=\"97.5,-10 97.5,-19 \"/>\n",
       "<text text-anchor=\"start\" x=\"67.5\" y=\"-13.2\" font-family=\"Helvetica,sans-Serif\" font-size=\"6.00\" fill=\"#444443\">left</text>\n",
       "<polygon fill=\"#fefecd\" stroke=\"transparent\" points=\"97.5,-10 97.5,-19 97.5,-19 97.5,-10 97.5,-10\"/>\n",
       "<polygon fill=\"#fefecd\" stroke=\"transparent\" points=\"97.5,-10 97.5,-19 124.5,-19 124.5,-10 97.5,-10\"/>\n",
       "<text text-anchor=\"start\" x=\"111.5\" y=\"-13.2\" font-family=\"Helvetica,sans-Serif\" font-size=\"6.00\" fill=\"#444443\">right</text>\n",
       "<polygon fill=\"#fefecd\" stroke=\"transparent\" points=\"66.5,-7 66.5,-10 97.5,-10 97.5,-7 66.5,-7\"/>\n",
       "<polyline fill=\"none\" stroke=\"#444443\" points=\"97.5,-7 97.5,-10 \"/>\n",
       "<text text-anchor=\"start\" x=\"81.86\" y=\"-8.1\" font-family=\"Helvetica,sans-Serif\" font-size=\"1.00\" fill=\"#444443\"> </text>\n",
       "<polygon fill=\"#fefecd\" stroke=\"transparent\" points=\"97.5,-7 97.5,-10 97.5,-10 97.5,-7 97.5,-7\"/>\n",
       "<polygon fill=\"#fefecd\" stroke=\"transparent\" points=\"97.5,-7 97.5,-10 124.5,-10 124.5,-7 97.5,-7\"/>\n",
       "<text text-anchor=\"start\" x=\"110.86\" y=\"-8.2\" font-family=\"Helvetica,sans-Serif\" font-size=\"1.00\" fill=\"#444443\"> </text>\n",
       "<polygon fill=\"#fefecd\" stroke=\"transparent\" points=\"66.5,-2 66.5,-7 97.5,-7 97.5,-2 66.5,-2\"/>\n",
       "<polyline fill=\"none\" stroke=\"#444443\" points=\"97.5,-2 97.5,-7 \"/>\n",
       "<text text-anchor=\"start\" x=\"81.5\" y=\"-3.6\" font-family=\"Helvetica,sans-Serif\" font-size=\"3.00\" fill=\"#444443\"> </text>\n",
       "<polygon fill=\"#fefecd\" stroke=\"transparent\" points=\"97.5,-2 97.5,-7 97.5,-7 97.5,-2 97.5,-2\"/>\n",
       "<polygon fill=\"#fefecd\" stroke=\"transparent\" points=\"97.5,-2 97.5,-7 124.5,-7 124.5,-2 97.5,-2\"/>\n",
       "<text text-anchor=\"start\" x=\"110.5\" y=\"-3.6\" font-family=\"Helvetica,sans-Serif\" font-size=\"3.00\" fill=\"#444443\"> </text>\n",
       "</g>\n",
       "<!-- node140458863786880&#45;&gt;node140458863786544 -->\n",
       "<g id=\"edge2\" class=\"edge\">\n",
       "<title>node140458863786880:c&#45;&gt;node140458863786544</title>\n",
       "<path fill=\"none\" stroke=\"#444443\" stroke-width=\"0.5\" d=\"M77.57,-81.85C79.07,-77.41 81.98,-68.84 85.03,-59.87\"/>\n",
       "<ellipse fill=\"#444443\" stroke=\"#444443\" stroke-width=\"0.5\" cx=\"77.01\" cy=\"-83.48\" rx=\"1.6\" ry=\"1.6\"/>\n",
       "<polygon fill=\"#444443\" stroke=\"#444443\" stroke-width=\"0.5\" points=\"86.37,-60.25 86.33,-56.02 83.72,-59.35 86.37,-60.25\"/>\n",
       "</g>\n",
       "</g>\n",
       "</svg>\n"
      ],
      "text/plain": [
       "<graphviz.files.Source at 0x7fbf20ae7970>"
      ]
     },
     "execution_count": 19,
     "metadata": {},
     "output_type": "execute_result"
    }
   ],
   "source": [
    "root = Tree(100, Tree(42), Tree(111))\n",
    "treeviz(root)"
   ]
  },
  {
   "cell_type": "markdown",
   "metadata": {},
   "source": [
    "We will look at these in more detail in MSDS621 as you'll be building decision trees via similar objects"
   ]
  },
  {
   "cell_type": "markdown",
   "metadata": {},
   "source": [
    "## Operator overloading\n",
    "\n",
    "Python allows class definitions to implement functions that are called when standard operator symbols such as `+` and `/` are applied to objects of that type. This is extremely useful for mathematical libraries such as numpy, but is often abused. Note that you could redefine subtraction to be multiplication when someone used the `-` sign. (Yikes!)\n",
    "\n",
    "Here's an extension to `Point` that supports `+` for `Point` addition:"
   ]
  },
  {
   "cell_type": "code",
   "execution_count": 20,
   "metadata": {},
   "outputs": [],
   "source": [
    "import numpy as np\n",
    "\n",
    "class Point:\n",
    "    def __init__(self, x, y):\n",
    "        self.x = x\n",
    "        self.y = y\n",
    "            \n",
    "    def __add__(self,other):\n",
    "        x = self.x + other.x\n",
    "        y = self.y + other.y\n",
    "        return Point(x,y)\n",
    "    \n",
    "    def __str__(self):\n",
    "        return f\"({self.x},{self.y})\""
   ]
  },
  {
   "cell_type": "code",
   "execution_count": 21,
   "metadata": {},
   "outputs": [
    {
     "name": "stdout",
     "output_type": "stream",
     "text": [
      "(3,4) (5,6)\n",
      "(8,10)\n",
      "(8,10)\n"
     ]
    }
   ],
   "source": [
    "p = Point(3,4)\n",
    "q = Point(5,6)\n",
    "print(p, q)\n",
    "print(p + q) # calls p.__add__(q) or Point.__add__(p,q)\n",
    "print(Point.__add__(p,q))"
   ]
  }
 ],
 "metadata": {
  "kernelspec": {
   "display_name": "Python 3",
   "language": "python",
   "name": "python3"
  },
  "language_info": {
   "codemirror_mode": {
    "name": "ipython",
    "version": 3
   },
   "file_extension": ".py",
   "mimetype": "text/x-python",
   "name": "python",
   "nbconvert_exporter": "python",
   "pygments_lexer": "ipython3",
   "version": "3.8.3"
  },
  "toc": {
   "colors": {
    "hover_highlight": "#DAA520",
    "navigate_num": "#000000",
    "navigate_text": "#333333",
    "running_highlight": "#FF0000",
    "selected_highlight": "#FFD700",
    "sidebar_border": "#EEEEEE",
    "wrapper_background": "#FFFFFF"
   },
   "moveMenuLeft": true,
   "nav_menu": {
    "height": "130.5px",
    "width": "252px"
   },
   "navigate_menu": true,
   "number_sections": true,
   "sideBar": true,
   "threshold": 4,
   "toc_cell": false,
   "toc_section_display": "block",
   "toc_window_display": false,
   "widenNotebook": false
  }
 },
 "nbformat": 4,
 "nbformat_minor": 4
}
