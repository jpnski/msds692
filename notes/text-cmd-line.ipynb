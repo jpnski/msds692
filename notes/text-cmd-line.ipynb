{
 "cells": [
  {
   "cell_type": "markdown",
   "metadata": {},
   "source": [
    "# Text processing from the command line\n",
    "\n",
    "It's often the case that we can do a huge amount of cleanup on unstructured text before using Python to process it more formally. We can delete unwanted characters, squeeze repeated characters, reformat, etc... In this section you will do a number of exercises that get you used to processing files from the command line. If you'd like to dig further, you can see [this link](http://www.tldp.org/LDP/abs/html/textproc.html).\n",
    "\n",
    "The operating system launches all commands in a pipeline sequence as separate processes, which means they can run on multiple processors simultaneously. This gives us parallel processing without having to write complicated code. As data is completed by one stage, it passes it to the next stage of the pipeline, and continues to work on its input. The next stage consumes that input in parallel. Consequently, processing text from the command line can be extremely efficient, much more so than doing it in Python.\n",
    "\n",
    "Let's get the Tesla text again:"
   ]
  },
  {
   "cell_type": "code",
   "execution_count": 1,
   "metadata": {},
   "outputs": [
    {
     "name": "stdout",
     "output_type": "stream",
     "text": [
      "  % Total    % Received % Xferd  Average Speed   Time    Time     Time  Current\n",
      "                                 Dload  Upload   Total   Spent    Left  Speed\n",
      "100 9438k  100 9438k    0     0  18.3M      0 --:--:-- --:--:-- --:--:-- 13.2M    0 --:--:-- --:--:-- --:--:-- 18.3M\n"
     ]
    }
   ],
   "source": [
    "! curl https://www.tesla.com/sites/default/files/tesla-model-s.pdf > /tmp/tsla.pdf"
   ]
  },
  {
   "cell_type": "markdown",
   "metadata": {},
   "source": [
    "That command downloads the file and because of the redirection operator, `>`, the output gets written to `tsla.pdf` up in `/tmp` directory.\n",
    "\n",
    "Once we have the data, we can pass the filename to `pdftotext` to extract the text:"
   ]
  },
  {
   "cell_type": "code",
   "execution_count": 2,
   "metadata": {},
   "outputs": [
    {
     "name": "stdout",
     "output_type": "stream",
     "text": [
      "Syntax Warning: Invalid Font Weight\n",
      "Syntax Warning: Invalid Font Weight\n",
      "Syntax Warning: Invalid Font Weight\n",
      "Syntax Warning: Invalid Font Weight\n",
      "Syntax Warning: Invalid Font Weight\n"
     ]
    }
   ],
   "source": [
    "! pdftotext /tmp/tsla.pdf # saves into /tmp/tsla.txt"
   ]
  },
  {
   "cell_type": "markdown",
   "metadata": {},
   "source": [
    "### Exercise\n",
    "\n",
    "Using the `tr` (translate) command from the terminal, strip all of the new lines from the text file you created above (`/tmp/tsla.txt`).  Look at the manual page with this command:\n",
    "\n",
    "```python\n",
    "$ man tr\n",
    "```\n",
    "\n",
    "You can pipe the output of `tr` to `head -c 200` to only print out the first 200 characters of the output."
   ]
  },
  {
   "cell_type": "code",
   "execution_count": 5,
   "metadata": {
    "scrolled": true
   },
   "outputs": [
    {
     "name": "stdout",
     "output_type": "stream",
     "text": [
      "Model S Premium Electric Sedan \f",
      "An evolution in automobile engineering Tesla’s advanced electric powertrain delivers exhilarating performance. Unlike a gasoline internal combustion engine with hundr"
     ]
    }
   ],
   "source": [
    "! tr -s '\\n' ' ' < /tmp/tsla.txt | head -c 200"
   ]
  },
  {
   "cell_type": "markdown",
   "metadata": {},
   "source": [
    "### Exercise\n",
    "\n",
    "Reformat the text using `tr` and `fold`. The `fold` command wraps lines at 80 characters; use its `-s` option to making break lines at spaces between words."
   ]
  },
  {
   "cell_type": "code",
   "execution_count": 6,
   "metadata": {},
   "outputs": [
    {
     "name": "stdout",
     "output_type": "stream",
     "text": [
      "Model S Premium Electric Sedan \f",
      "An evolution in automobile engineering Tesla’s \n",
      "advanced electric powertrain delivers exhilarating performance. Unlike a \n",
      "gasoline internal combustion engine with hundreds of moving parts, Tesla \n",
      "electric motors have only one moving piece: the rotor. As a result, Model S \n",
      "acceleration is instantaneous, silent and smooth. Step on the accelerator and \n",
      "in as little as 3.1 seconds Model S is travelling 60 miles per hour, without \n",
      "hesitation, and without a drop of gasoline. Model S is an evolution in \n",
      "automobile engineering. \f",
      "All-Wheel Drive Dual Motor Rear Wheel Drive All-Wheel \n",
      "Drive Dual Motor Dual Motor Model S is a categorical improvement on \n",
      "conventional all-wheel drive systems. With two motors, one in the front and one \n"
     ]
    }
   ],
   "source": [
    "! tr -s '\\n' ' ' < /tmp/tsla.txt | fold -s | head -10"
   ]
  },
  {
   "cell_type": "markdown",
   "metadata": {},
   "source": [
    "### Exercise\n",
    "\n",
    "It is sometimes useful to put a line number at the left edge of all lines. For example, you might want to create a unique ID number for each row of a CSV file. Pipe the output of the previous command to `nl` so that you get the line number on the left edge."
   ]
  },
  {
   "cell_type": "code",
   "execution_count": 7,
   "metadata": {},
   "outputs": [
    {
     "name": "stdout",
     "output_type": "stream",
     "text": [
      "     1\tModel S Premium Electric Sedan \f",
      "An evolution in automobile engineering Tesla’s \n",
      "     2\tadvanced electric powertrain delivers exhilarating performance. Unlike a \n",
      "     3\tgasoline internal combustion engine with hundreds of moving parts, Tesla \n",
      "     4\telectric motors have only one moving piece: the rotor. As a result, Model S \n",
      "     5\tacceleration is instantaneous, silent and smooth. Step on the accelerator and \n",
      "     6\tin as little as 3.1 seconds Model S is travelling 60 miles per hour, without \n",
      "     7\thesitation, and without a drop of gasoline. Model S is an evolution in \n",
      "     8\tautomobile engineering. \f",
      "All-Wheel Drive Dual Motor Rear Wheel Drive All-Wheel \n",
      "     9\tDrive Dual Motor Dual Motor Model S is a categorical improvement on \n",
      "    10\tconventional all-wheel drive systems. With two motors, one in the front and one \n"
     ]
    }
   ],
   "source": [
    "! tr -s '\\n' ' ' < /tmp/tsla.txt | fold -s | nl | head -10"
   ]
  },
  {
   "cell_type": "markdown",
   "metadata": {},
   "source": [
    "### Exercise\n",
    "\n",
    "Convert the text to all lowercase using `tr`. Hint: `a-z` and `A-Z` are [regular expressions](http://www.rexegg.com/regex-quickstart.html) that describe English characters and uppercase English characters."
   ]
  },
  {
   "cell_type": "code",
   "execution_count": 8,
   "metadata": {
    "scrolled": true
   },
   "outputs": [
    {
     "name": "stdout",
     "output_type": "stream",
     "text": [
      "model s\n",
      "premium electric sedan\n",
      "\n",
      "\f",
      "an evolution\n",
      "in automobile\n",
      "engineering\n",
      "tesla’s advanced electric powertrain\n",
      "delivers exhilarating performance.\n",
      "unli"
     ]
    }
   ],
   "source": [
    "! tr 'A-Z' 'a-z' < /tmp/tsla.txt | head -c 150"
   ]
  },
  {
   "cell_type": "markdown",
   "metadata": {},
   "source": [
    "### Exercise\n",
    "\n",
    "Do the same thing but on the text that has the new lines removed."
   ]
  },
  {
   "cell_type": "code",
   "execution_count": 9,
   "metadata": {},
   "outputs": [
    {
     "name": "stdout",
     "output_type": "stream",
     "text": [
      "model s premium electric sedan \f",
      "an evolution in automobile engineering tesla’s advanced electric powertrain delivers exhilarating performance. unlik"
     ]
    }
   ],
   "source": [
    "! tr -s '\\n' ' ' < /tmp/tsla.txt | tr 'A-Z' 'a-z' | head -c 150"
   ]
  }
 ],
 "metadata": {
  "kernelspec": {
   "display_name": "Python 3",
   "language": "python",
   "name": "python3"
  },
  "language_info": {
   "codemirror_mode": {
    "name": "ipython",
    "version": 3
   },
   "file_extension": ".py",
   "mimetype": "text/x-python",
   "name": "python",
   "nbconvert_exporter": "python",
   "pygments_lexer": "ipython3",
   "version": "3.8.3"
  }
 },
 "nbformat": 4,
 "nbformat_minor": 4
}
